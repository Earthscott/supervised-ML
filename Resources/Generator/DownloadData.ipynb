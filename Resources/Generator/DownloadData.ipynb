{
 "cells": [
  {
   "cell_type": "code",
   "execution_count": 1,
   "metadata": {},
   "outputs": [],
   "source": [
    "from datetime import date"
   ]
  },
  {
   "cell_type": "code",
   "execution_count": 2,
   "metadata": {},
   "outputs": [
    {
     "name": "stdout",
     "output_type": "stream",
     "text": [
      "C:\\Users\\earth\\Documents\\UNC_BootCamp\\Homework\\supervised-ML\\Resources\\Generator\\downloaded\n"
     ]
    },
    {
     "name": "stderr",
     "output_type": "stream",
     "text": [
      "  % Total    % Received % Xferd  Average Speed   Time    Time     Time  Current\n",
      "                                 Dload  Upload   Total   Spent    Left  Speed\n",
      "\n",
      "  0     0    0     0    0     0      0      0 --:--:-- --:--:-- --:--:--     0\n",
      "100  197k    0  197k    0     0   203k      0 --:--:-- --:--:-- --:--:--  203k\n",
      "100 5087k    0 5087k    0     0  2595k      0 --:--:--  0:00:01 --:--:-- 2595k\n",
      "100 11.4M    0 11.4M    0     0  3976k      0 --:--:--  0:00:02 --:--:-- 3977k\n",
      "100 17.7M    0 17.7M    0     0  4584k      0 --:--:--  0:00:03 --:--:-- 4584k\n",
      "100 20.2M    0 20.2M    0     0  4729k      0 --:--:--  0:00:04 --:--:-- 4730k\n",
      "  % Total    % Received % Xferd  Average Speed   Time    Time     Time  Current\n",
      "                                 Dload  Upload   Total   Spent    Left  Speed\n",
      "\n",
      "  0     0    0     0    0     0      0      0 --:--:-- --:--:-- --:--:--     0\n",
      "  0     0    0     0    0     0      0      0 --:--:-- --:--:-- --:--:--     0\n",
      "100 2935k    0 2935k    0     0  1908k      0 --:--:--  0:00:01 --:--:-- 1908k\n",
      "100 6132k    0 6132k    0     0  2416k      0 --:--:--  0:00:02 --:--:-- 2416k\n",
      "100 9329k    0 9329k    0     0  2638k      0 --:--:--  0:00:03 --:--:-- 2638k\n",
      "100 12.2M    0 12.2M    0     0  2774k      0 --:--:--  0:00:04 --:--:-- 2774k\n",
      "100 15.4M    0 15.4M    0     0  2847k      0 --:--:--  0:00:05 --:--:-- 3167k\n",
      "100 18.5M    0 18.5M    0     0  2903k      0 --:--:--  0:00:06 --:--:-- 3208k\n",
      "100 21.6M    0 21.6M    0     0  2942k      0 --:--:--  0:00:07 --:--:-- 3208k\n",
      "100 23.1M    0 23.1M    0     0  2960k      0 --:--:--  0:00:07 --:--:-- 3217k\n",
      "  % Total    % Received % Xferd  Average Speed   Time    Time     Time  Current\n",
      "                                 Dload  Upload   Total   Spent    Left  Speed\n",
      "\n",
      "  0     0    0     0    0     0      0      0 --:--:-- --:--:-- --:--:--     0\n",
      "  0     0    0     0    0     0      0      0 --:--:-- --:--:-- --:--:--     0\n",
      "100 2731k    0 2731k    0     0  1791k      0 --:--:--  0:00:01 --:--:-- 1791k\n",
      "100 9181k    0 9181k    0     0  3670k      0 --:--:--  0:00:02 --:--:-- 3669k\n",
      "100 14.3M    0 14.3M    0     0  4201k      0 --:--:--  0:00:03 --:--:-- 4201k\n",
      "100 20.0M    0 20.0M    0     0  4548k      0 --:--:--  0:00:04 --:--:-- 4548k\n",
      "100 25.1M    0 25.1M    0     0  4799k      0 --:--:--  0:00:05 --:--:-- 5312k\n",
      "  % Total    % Received % Xferd  Average Speed   Time    Time     Time  Current\n",
      "                                 Dload  Upload   Total   Spent    Left  Speed\n",
      "\n",
      "  0     0    0     0    0     0      0      0 --:--:-- --:--:-- --:--:--     0\n",
      "  0     0    0     0    0     0      0      0 --:--:-- --:--:-- --:--:--     0\n",
      "100  573k    0  573k    0     0   516k      0 --:--:--  0:00:01 --:--:--  516k\n",
      "100 4668k    0 4668k    0     0  2229k      0 --:--:--  0:00:02 --:--:-- 2229k\n",
      "100 7844k    0 7844k    0     0  2536k      0 --:--:--  0:00:03 --:--:-- 2536k\n",
      "100 10.7M    0 10.7M    0     0  2695k      0 --:--:--  0:00:04 --:--:-- 2695k\n",
      "100 13.9M    0 13.9M    0     0  2802k      0 --:--:--  0:00:05 --:--:-- 2866k\n",
      "100 17.0M    0 17.0M    0     0  2867k      0 --:--:--  0:00:06 --:--:-- 3390k\n",
      "100 20.1M    0 20.1M    0     0  2914k      0 --:--:--  0:00:07 --:--:-- 3200k\n",
      "100 22.5M    0 22.5M    0     0  2941k      0 --:--:--  0:00:07 --:--:-- 3204k\n",
      "  % Total    % Received % Xferd  Average Speed   Time    Time     Time  Current\n",
      "                                 Dload  Upload   Total   Spent    Left  Speed\n",
      "\n",
      "  0     0    0     0    0     0      0      0 --:--:-- --:--:-- --:--:--     0\n",
      "  0     0    0     0    0     0      0      0 --:--:-- --:--:-- --:--:--     0\n",
      "100 1195k    0 1195k    0     0   988k      0 --:--:--  0:00:01 --:--:--  988k\n",
      "100 8643k    0 8643k    0     0  3903k      0 --:--:--  0:00:02 --:--:-- 3902k\n",
      "100 14.4M    0 14.4M    0     0  4596k      0 --:--:--  0:00:03 --:--:-- 4596k\n",
      "100 18.3M    0 18.3M    0     0  4854k      0 --:--:--  0:00:03 --:--:-- 4855k\n"
     ]
    }
   ],
   "source": [
    "%cd downloaded\n",
    "!curl -O https://resources.lendingclub.com/LoanStats_2019Q1.csv.zip\n",
    "!curl -O https://resources.lendingclub.com/LoanStats_2019Q2.csv.zip\n",
    "!curl -O https://resources.lendingclub.com/LoanStats_2019Q3.csv.zip\n",
    "!curl -O https://resources.lendingclub.com/LoanStats_2019Q4.csv.zip\n",
    "!curl -O https://resources.lendingclub.com/LoanStats_2020Q1.csv.zip\n",
    "\n",
    "message = f\"Files downloaded {date.today().strftime('%b %e, %Y')}.\"\n",
    "with open(r\"README.txt\", \"w\") as file:\n",
    "    file.write(message)"
   ]
  },
  {
   "cell_type": "code",
   "execution_count": null,
   "metadata": {},
   "outputs": [],
   "source": []
  }
 ],
 "metadata": {
  "kernelspec": {
   "display_name": "Python 3",
   "language": "python",
   "name": "python3"
  },
  "language_info": {
   "codemirror_mode": {
    "name": "ipython",
    "version": 3
   },
   "file_extension": ".py",
   "mimetype": "text/x-python",
   "name": "python",
   "nbconvert_exporter": "python",
   "pygments_lexer": "ipython3",
   "version": "3.8.10"
  }
 },
 "nbformat": 4,
 "nbformat_minor": 4
}
